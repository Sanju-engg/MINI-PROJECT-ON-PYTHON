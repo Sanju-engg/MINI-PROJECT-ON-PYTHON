{
  "nbformat": 4,
  "nbformat_minor": 0,
  "metadata": {
    "colab": {
      "provenance": []
    },
    "kernelspec": {
      "name": "python3",
      "display_name": "Python 3"
    },
    "language_info": {
      "name": "python"
    }
  },
  "cells": [
    {
      "cell_type": "markdown",
      "source": [
        "MINI PROJECT:Simple Banking System with Exception Handling Problem Statement"
      ],
      "metadata": {
        "id": "KGbnZ1hyp-FW"
      }
    },
    {
      "cell_type": "code",
      "execution_count": 16,
      "metadata": {
        "colab": {
          "base_uri": "https://localhost:8080/"
        },
        "id": "HB3GiKd65Djt",
        "outputId": "7e531fa6-424e-4d88-b5f0-53382df82546"
      },
      "outputs": [
        {
          "output_type": "stream",
          "name": "stdout",
          "text": [
            "enter the account balance:10000\n",
            "enter the withdrawal amount:250\n",
            "Processing= 250.0\n",
            "The remaining Balance is = 9750.0\n",
            "Thank you for using the ATM\n"
          ]
        }
      ],
      "source": [
        "try:\n",
        "  account_balance=float(input(\"enter the account balance:\"))\n",
        "  withdrawal=float(input(\"enter the withdrawal amount:\"))\n",
        "  if withdrawal <= 0:\n",
        "      print(\"Enter the correct amount:\")\n",
        "  elif account_balance < withdrawal:\n",
        "      print(\"Insufficient balance\")\n",
        "  else:\n",
        "      print(\"Processing=\",withdrawal)\n",
        "      print(\"The remaining Balance is =\",account_balance-withdrawal)\n",
        "      print(\"Thank you for using the ATM\")\n",
        "except valueError:\n",
        "         print(\"Enter the correct value\")\n"
      ]
    },
    {
      "cell_type": "code",
      "source": [],
      "metadata": {
        "id": "gqILjSHB6N2r"
      },
      "execution_count": 2,
      "outputs": []
    }
  ]
}